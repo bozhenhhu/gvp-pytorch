{
 "cells": [
  {
   "cell_type": "code",
   "execution_count": 3,
   "metadata": {},
   "outputs": [
    {
     "name": "stderr",
     "output_type": "stream",
     "text": [
      "/opt/anaconda3/envs/manifold/lib/python3.7/site-packages/tqdm/auto.py:22: TqdmWarning: IProgress not found. Please update jupyter and ipywidgets. See https://ipywidgets.readthedocs.io/en/stable/user_install.html\n",
      "  from .autonotebook import tqdm as notebook_tqdm\n"
     ]
    }
   ],
   "source": [
    "import torch_geometric\n",
    "import json\n",
    "import torch.utils.data as data\n",
    "import numpy as np\n",
    "import tqdm, random\n",
    "import torch, math\n",
    "import torch.utils.data as data\n",
    "import torch.nn.functional as F\n",
    "import torch_cluster\n",
    "import matplotlib.pyplot as plt\n",
    "\n",
    "\n",
    "class CATHDataset:\n",
    "    '''\n",
    "    Loader and container class for the CATH 4.2 dataset downloaded\n",
    "    from http://people.csail.mit.edu/ingraham/graph-protein-design/data/cath/.\n",
    "    \n",
    "    Has attributes `self.train`, `self.val`, `self.test`, each of which are\n",
    "    JSON/dictionary-type datasets as described in README.md.\n",
    "    \n",
    "    :param path: path to chain_set.jsonl\n",
    "    :param splits_path: path to chain_set_splits.json or equivalent.\n",
    "    '''\n",
    "    def __init__(self, path, splits_path, top_k=30, device=\"cpu\"):\n",
    "        self.top_k = top_k\n",
    "        self.device = device\n",
    "        with open(splits_path) as f:\n",
    "            dataset_splits = json.load(f)\n",
    "        train_list, val_list, test_list = dataset_splits['train'], \\\n",
    "            dataset_splits['validation'], dataset_splits['test']\n",
    "        \n",
    "        self.train, self.val, self.test = [], [], []\n",
    "        \n",
    "        with open(path) as f:\n",
    "            lines = f.readlines()\n",
    "        \n",
    "        for line in tqdm.tqdm(lines):\n",
    "            entry = json.loads(line)\n",
    "            name = entry['name']\n",
    "            coords = entry['coords']\n",
    "            \n",
    "            entry['coords'] = list(zip(\n",
    "                coords['N'], coords['CA'], coords['C'], coords['O']\n",
    "            ))\n",
    "            \n",
    "            if name in train_list:\n",
    "                self.train.append(entry)\n",
    "            elif name in val_list:\n",
    "                self.val.append(entry)\n",
    "            elif name in test_list:\n",
    "                self.test.append(entry)\n",
    "    def get_his(self, dataset):\n",
    "        distance = []\n",
    "        for i in range(len(dataset)):\n",
    "            protein = dataset[i]\n",
    "            name = protein['name']\n",
    "            coords = torch.as_tensor(protein['coords'], \n",
    "                                     device=self.device, dtype=torch.float32)   \n",
    "            mask = torch.isfinite(coords.sum(dim=(1,2)))\n",
    "            coords[~mask] = np.inf\n",
    "            \n",
    "            X_ca = coords[:, 1]\n",
    "            edge_index = torch_cluster.knn_graph(X_ca, k=self.top_k)\n",
    "            E_vectors = X_ca[edge_index[0]] - X_ca[edge_index[1]]\n",
    "            E_vectors = E_vectors.norm(dim=-1)\n",
    "            distance.extend(E_vectors.tolist())\n",
    "        return distance\n",
    "\n"
   ]
  },
  {
   "cell_type": "code",
   "execution_count": 4,
   "metadata": {},
   "outputs": [
    {
     "data": {
      "image/png": "[encoded data removed]",
      "text/plain": [
       "<Figure size 432x288 with 1 Axes>"
      ]
     },
     "metadata": {
      "needs_background": "light"
     },
     "output_type": "display_data"
    }
   ],
   "source": [
    "\n",
    "device = \"cuda\" if torch.cuda.is_available() else \"cpu\"\n",
    "\n",
    "cath = CATHDataset(path=\"data/chain_set.jsonl\",\n",
    "                            splits_path=\"data/chain_set_splits.json\")    \n",
    "\n",
    "val_distance = cath.get_his(cath.val)\n",
    "val_distance = np.array(val_distance)\n",
    "\n",
    "plt.figure(\"lena\")\n",
    "plt.subplot(221)\n",
    "n, bins, patches = plt.hist(val_distance)  \n",
    "plt.subplot(222)\n",
    "n, bins, patches = plt.hist(val_distance,bins=256)  \n",
    "plt.subplot(223)\n",
    "n, bins, patches = plt.hist(val_distance,bins=256,density=True)  \n",
    "plt.subplot(224)\n",
    "n, bins, patches = plt.hist(val_distance,bins=256,log=True)  \n",
    "\n",
    "plt.show()\n",
    "\n",
    "\n",
    "# print(val_distance.shape)\n",
    "# train_distance = cath.get_his(cath.train)\n",
    "# train_distance.extend(val_distance)\n"
   ]
  }
 ],
 "metadata": {
  "interpreter": {
   "hash": "ad9423c3da2352b08aed4bb9731c041c9a92cc0e9b2a8c30f82ace493c0869a9"
  },
  "kernelspec": {
   "display_name": "Python 3.7.12 ('manifold')",
   "language": "python",
   "name": "python3"
  },
  "language_info": {
   "codemirror_mode": {
    "name": "ipython",
    "version": 3
   },
   "file_extension": ".py",
   "mimetype": "text/x-python",
   "name": "python",
   "nbconvert_exporter": "python",
   "pygments_lexer": "ipython3",
   "version": "3.7.12"
  },
  "orig_nbformat": 4
 },
 "nbformat": 4,
 "nbformat_minor": 2
}
